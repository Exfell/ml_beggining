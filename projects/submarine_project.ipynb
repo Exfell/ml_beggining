{
 "cells": [
  {
   "cell_type": "markdown",
   "id": "ec3134ac-a3de-40b4-8742-d84a97063c0a",
   "metadata": {},
   "source": [
    "Brief explanation. We're in a submarine and we need to figure out whether it's an underwater rock or a mine underneath us. Since we have two classes, we will use LogisticRegression for binary classification. Very easy exercise"
   ]
  },
  {
   "cell_type": "code",
   "execution_count": 1,
   "id": "f110386d-7abc-4b64-976c-17a0b3e37396",
   "metadata": {},
   "outputs": [],
   "source": [
    "import pandas as pd\n",
    "from sklearn.model_selection import train_test_split\n",
    "from sklearn.linear_model import LogisticRegression\n",
    "df = pd.read_csv('../src/submarine.csv', header = None) # header = None для того, чтобы он не думал, что первая строка - название столбцов"
   ]
  },
  {
   "cell_type": "code",
   "execution_count": 2,
   "id": "bffaacb0-4cd0-4aef-ad7f-0492633918ba",
   "metadata": {},
   "outputs": [],
   "source": [
    "from sklearn.preprocessing import LabelEncoder\n",
    "X = df.drop(columns = 60, axis = 1) # columns = 60, т.к. здесь индекс, а не строка, нельзя сделать df.drop('60',axis=1)\n",
    "encoder = LabelEncoder()\n",
    "y = encoder.fit_transform(df[60])\n",
    "X_train,X_test,y_train,y_test = train_test_split(X,y, test_size = 0.3)\n"
   ]
  },
  {
   "cell_type": "code",
   "execution_count": 3,
   "id": "3596a373-0324-4ab8-b42d-8175af93fa40",
   "metadata": {},
   "outputs": [
    {
     "data": {
      "text/plain": [
       "0.7777777777777778"
      ]
     },
     "execution_count": 3,
     "metadata": {},
     "output_type": "execute_result"
    }
   ],
   "source": [
    "model = LogisticRegression()\n",
    "model.fit(X_train,y_train)\n",
    "model.score(X_test,y_test)"
   ]
  },
  {
   "cell_type": "markdown",
   "id": "28c318d4-fe9d-4f45-8be6-b6e1b9b6a6c2",
   "metadata": {},
   "source": [
    "So, we may have real data that the user inputs to us, and we would need to transform it to feed it into our algorithm and get a prediction result."
   ]
  },
  {
   "cell_type": "code",
   "execution_count": 8,
   "id": "df759100-efe8-444c-b151-9c0866a38247",
   "metadata": {},
   "outputs": [
    {
     "data": {
      "text/plain": [
       "array(['R'], dtype=object)"
      ]
     },
     "execution_count": 8,
     "metadata": {},
     "output_type": "execute_result"
    }
   ],
   "source": [
    "import numpy as np\n",
    "input_data = np.asarray((0.0200,0.0371,0.0428,0.0207,0.0954,0.0986,0.1539,0.1601,0.3109,0.2111,0.1609,0.1582,0.2238,0.0645,0.0660,0.2273,0.3100,0.2999,0.5078,0.4797,0.5783,0.5071,0.4328,0.5550,0.6711,0.6415,0.7104,0.8080,0.6791,0.3857,0.1307,0.2604,0.5121,0.7547,0.8537,0.8507,0.6692,0.6097,0.4943,0.2744,0.0510,0.2834,0.2825,0.4256,0.2641,0.1386,0.1051,0.1343,0.0383,0.0324,0.0232,0.0027,0.0065,0.0159,0.0072,0.0167,0.0180,0.0084,0.0090,0.0032))\n",
    "reshaped_input_data = input_data.reshape(1,-1) # мы фактически просто добавлям размерность, т.к. мы де юре передаем много объектов, это как df[['area']], чтобы был не слайс, а датафрейм\n",
    "predicted_number_of_label = model.predict(reshaped_input_data)\n",
    "encoder.inverse_transform(predicted_number_of_label)"
   ]
  }
 ],
 "metadata": {
  "kernelspec": {
   "display_name": "Python 3 (ipykernel)",
   "language": "python",
   "name": "python3"
  },
  "language_info": {
   "codemirror_mode": {
    "name": "ipython",
    "version": 3
   },
   "file_extension": ".py",
   "mimetype": "text/x-python",
   "name": "python",
   "nbconvert_exporter": "python",
   "pygments_lexer": "ipython3",
   "version": "3.11.1"
  }
 },
 "nbformat": 4,
 "nbformat_minor": 5
}
