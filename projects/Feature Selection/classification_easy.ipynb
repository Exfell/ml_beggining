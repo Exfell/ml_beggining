{
 "cells": [
  {
   "cell_type": "code",
   "execution_count": 1,
   "id": "fb8b0ce9-9c77-4f42-9a37-0f1aaa41f35e",
   "metadata": {
    "scrolled": true
   },
   "outputs": [
    {
     "data": {
      "text/plain": [
       "((60816, 369), (60816,))"
      ]
     },
     "execution_count": 1,
     "metadata": {},
     "output_type": "execute_result"
    }
   ],
   "source": [
    "import pandas as pd\n",
    "from sklearn.model_selection import train_test_split\n",
    "df = pd.read_csv('../src/train.csv')\n",
    "X = df.iloc[:,:-1].drop('ID',axis=1)\n",
    "y = df.iloc[:,-1]\n",
    "X_train,X_test,y_train,y_test = train_test_split(X,y,test_size=0.2)\n",
    "X_train.shape,y_train.shape"
   ]
  },
  {
   "cell_type": "code",
   "execution_count": 2,
   "id": "f253f03d-b32e-420a-91cb-431c099c8498",
   "metadata": {},
   "outputs": [],
   "source": [
    "cat_col = X_train.select_dtypes(include = ['object','category']) # 0 для этого датасета\n",
    "Q1 = X_train.quantile(0.25)\n",
    "Q3 = X_train.quantile(0.75)\n",
    "IQR = Q3 - Q1\n",
    "X1 = X_train[~((X_train < (Q1 - 1.5 * IQR)) | (X_train > (Q3 + 1.5 * IQR)))]\n",
    "X_train = X1.fillna(X1.mean())"
   ]
  },
  {
   "cell_type": "code",
   "execution_count": 3,
   "id": "84bee72e-1748-48f6-81cd-4851ce040478",
   "metadata": {},
   "outputs": [
    {
     "data": {
      "text/plain": [
       "(60816, 25)"
      ]
     },
     "execution_count": 3,
     "metadata": {},
     "output_type": "execute_result"
    }
   ],
   "source": [
    "from sklearn.feature_selection import VarianceThreshold\n",
    "from sklearn.preprocessing import StandardScaler # сделали очистку от выбросов, теперь делаем проверку на Varience Threshold\n",
    "scaler = StandardScaler()\n",
    "X_scaled = pd.DataFrame(scaler.fit_transform(X_train),columns = X_train.columns)\n",
    "thr = VarianceThreshold(threshold = 0.05)\n",
    "thr.fit(X_scaled,y)\n",
    "cols = X_scaled.columns[thr.get_support()] # get_support() делает то, что даёт нужные столбцы\n",
    "X_thr = pd.DataFrame(thr.transform(X_scaled),columns = cols)\n",
    "X_thr.shape # ну, здесь всё +- нормально уже."
   ]
  },
  {
   "cell_type": "code",
   "execution_count": 5,
   "id": "0f9f950d-23e0-4c03-ac26-bac9e275c0f1",
   "metadata": {},
   "outputs": [
    {
     "data": {
      "text/plain": [
       "((60816, 17), 8)"
      ]
     },
     "execution_count": 5,
     "metadata": {},
     "output_type": "execute_result"
    }
   ],
   "source": [
    "X_corr = X_thr.corr() # это - такой же DataFrame\n",
    "hold = 0.8\n",
    "to_drop = []\n",
    "for col in X_corr.columns:\n",
    "    cor_features = X_corr[col].abs()>hold # у Series вместо индексов - строки, но они ничего не делают. Берет абсолютные значения и смотрит у каждого, есть ли у него корреляция больше нужной\n",
    "    cor_features[col] = False # не учитывается корреляция с самим собой\n",
    "    if any(cor_features):  # Если есть хоть один признак, коррелирующий с текущим выше порога.\n",
    "        to_drop.append(col)\n",
    "X_final = X_thr.drop(columns = to_drop)\n",
    "X_final.shape,len(to_drop) # оказалось вообще смешно"
   ]
  },
  {
   "cell_type": "code",
   "execution_count": 6,
   "id": "a245e983-c967-4c3d-9c96-f42b950d045b",
   "metadata": {},
   "outputs": [],
   "source": [
    "# X_thr - после Threshold, X_final - уже когда после корреляции\n",
    "cols = X_final.columns\n",
    "X_test = pd.DataFrame(scaler.fit_transform(X_test[X_scaled.columns]),columns=X_scaled.columns)[cols]"
   ]
  },
  {
   "cell_type": "code",
   "execution_count": 7,
   "id": "1e955feb-4cd6-430c-9d0b-3eec963dead0",
   "metadata": {},
   "outputs": [],
   "source": [
    "from sklearn.ensemble import RandomForestClassifier \n",
    "model = RandomForestClassifier(min_samples_leaf = 4,random_state=42)\n",
    "model.fit(X_final,y_train)\n",
    "X_final = X_final[X_final.columns[model.feature_importances_>0.05]]\n",
    "X_test = X_test[X_final.columns]"
   ]
  },
  {
   "cell_type": "code",
   "execution_count": 8,
   "id": "89754dde-5926-4cc7-a9bd-06cfac12c0ec",
   "metadata": {},
   "outputs": [
    {
     "name": "stdout",
     "output_type": "stream",
     "text": [
      "🎯🎯🎯🎯🎯🎯🎯🎯🎯🎯🎯🎯🎯🎯🎯🎯🎯🎯🎯0.9596816627203367 при 5 из 369 признаков🎯🎯🎯🎯🎯🎯🎯🎯🎯🎯🎯🎯🎯🎯🎯🎯🎯🎯🎯🎯\n"
     ]
    }
   ],
   "source": [
    "final_model = RandomForestClassifier(min_samples_leaf = 4) # здесь уже можно делать валидацию разных моделей\n",
    "final_model.fit(X_final,y_train)\n",
    "score = final_model.score(X_test, y_test)\n",
    "print(f'{score} при 5 из 369 признаков'.center(80,'🎯'))"
   ]
  },
  {
   "cell_type": "code",
   "execution_count": null,
   "id": "5df75ddb-c186-4119-9e76-f62f4b07d696",
   "metadata": {},
   "outputs": [],
   "source": []
  }
 ],
 "metadata": {
  "kernelspec": {
   "display_name": "Python 3 (ipykernel)",
   "language": "python",
   "name": "python3"
  },
  "language_info": {
   "codemirror_mode": {
    "name": "ipython",
    "version": 3
   },
   "file_extension": ".py",
   "mimetype": "text/x-python",
   "name": "python",
   "nbconvert_exporter": "python",
   "pygments_lexer": "ipython3",
   "version": "3.11.7"
  }
 },
 "nbformat": 4,
 "nbformat_minor": 5
}
