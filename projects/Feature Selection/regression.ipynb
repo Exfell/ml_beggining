{
 "cells": [
  {
   "cell_type": "code",
   "execution_count": 34,
   "id": "970566a5-43a5-4204-aa36-e3c5add3cd88",
   "metadata": {},
   "outputs": [],
   "source": [
    "import pandas as pd\n",
    "pd.set_option('display.max_columns', None)  # Показывать все столбцы\n",
    "df_train = pd.read_csv('../src/train1.csv')\n",
    "X_train = df_train.iloc[:,1:-1]\n",
    "y_train = df_train.iloc[:,-1]\n",
    "X_test = pd.read_csv('../src/test1.csv').iloc[:,1:-1]\n",
    "y_test = pd.read_csv('../src/submission.csv').drop('Id',axis=1)"
   ]
  },
  {
   "cell_type": "code",
   "execution_count": 35,
   "id": "7d963404-cfcb-4e2f-b71f-85f50ca53519",
   "metadata": {},
   "outputs": [],
   "source": [
    "categorical_columns = X_train.select_dtypes(include=['object', 'category'])\n",
    "num_columns = X_train.drop([*categorical_columns],axis=1)\n",
    "Q1 = num_columns.quantile(0.25)\n",
    "Q3 = num_columns.quantile(0.75)\n",
    "IQR = Q3 - Q1\n",
    "num_columns = num_columns[~((num_columns < (Q1 - 1.5 * IQR)) | (num_columns > (Q3 + 1.5 * IQR)))]\n",
    "num_columns = num_columns.fillna(num_columns.mean()) \n",
    "\n",
    "threshold = 0.8\n",
    "categorical_columns = categorical_columns.dropna(axis=1, thresh=len(categorical_columns) - threshold) # если много пропусков в категориальном столбце\n",
    "\n",
    "for x in categorical_columns:\n",
    "    categorical_columns[x] = categorical_columns[x].fillna(categorical_columns[x].mode()[0])"
   ]
  },
  {
   "cell_type": "code",
   "execution_count": 36,
   "id": "ef33e1fb-363a-4264-8b72-154aad756b59",
   "metadata": {},
   "outputs": [],
   "source": [
    "# !pip install category_encoders\n",
    "from category_encoders import TargetEncoder\n",
    "enc = TargetEncoder()\n",
    "categorical_columns = enc.fit_transform(categorical_columns,y_train) "
   ]
  },
  {
   "cell_type": "code",
   "execution_count": 37,
   "id": "aa54493e-485b-42c2-b90e-ad44139ce994",
   "metadata": {},
   "outputs": [
    {
     "name": "stdout",
     "output_type": "stream",
     "text": [
      "(1460, 27) (1460, 36)\n"
     ]
    }
   ],
   "source": [
    "# убираем признаки с маленькой вариацией (дисперсией)\n",
    "from sklearn.feature_selection import VarianceThreshold\n",
    "from sklearn.preprocessing import StandardScaler\n",
    "\n",
    "# проверяем и категориальные и числовые.\n",
    "scaler1 = StandardScaler()\n",
    "scaler2 = StandardScaler()\n",
    "num_scaled = pd.DataFrame(scaler1.fit_transform(num_columns),columns = num_columns.columns)\n",
    "cat_sc = pd.DataFrame(scaler2.fit_transform(categorical_columns),columns = categorical_columns.columns)\n",
    "sel1 = VarianceThreshold(threshold = 0.05)\n",
    "sel2 = VarianceThreshold(threshold = 0.05)\n",
    "print(cat_sc.shape,num_scaled.shape)\n",
    "\n",
    "sel1.fit(num_scaled)\n",
    "sel2.fit(cat_sc)\n",
    "cols1 = num_scaled.columns[sel1.get_support()] # get_support() делает то, что даёт нужные столбцы\n",
    "cols2 = cat_sc.columns[sel2.get_support()]\n",
    "num_columns = num_columns[cols1]\n",
    "categorical_columns = categorical_columns[cols2]"
   ]
  },
  {
   "cell_type": "code",
   "execution_count": 38,
   "id": "38e74255-426c-4fb3-a473-6eb7bb96f3b3",
   "metadata": {},
   "outputs": [
    {
     "data": {
      "text/plain": [
       "(1460, 13)"
      ]
     },
     "execution_count": 38,
     "metadata": {},
     "output_type": "execute_result"
    }
   ],
   "source": [
    "from sklearn.feature_selection import mutual_info_regression # здесь выбираем лучшие признаки для классификации - chi2\n",
    "need_cols = categorical_columns.columns[mutual_info_regression(categorical_columns,y_train)>0.05]\n",
    "categorical_columns = categorical_columns[need_cols]\n",
    "categorical_columns.shape # 13 категориальных - много, будем делать дерево или KNR"
   ]
  },
  {
   "cell_type": "code",
   "execution_count": 39,
   "id": "73d0aaeb-49ea-453e-9a3a-da8c1ede28ea",
   "metadata": {},
   "outputs": [],
   "source": [
    "X_corr = num_columns.corr() # это - такой же DataFrame\n",
    "hold = 0.8\n",
    "to_drop = []\n",
    "for col in X_corr.columns:\n",
    "    cor_features = X_corr[col].abs()>hold # у Series вместо индексов - строки, но они ничего не делают. Берет абсолютные значения и смотрит у каждого, есть ли у него корреляция больше нужной\n",
    "    cor_features[col] = False # не учитывается корреляция с самим собой\n",
    "    if any(cor_features):  # Если есть хоть один признак, коррелирующий с текущим выше порога.\n",
    "        to_drop.append(col)\n",
    "num_columns = num_columns.drop(columns = to_drop)"
   ]
  },
  {
   "cell_type": "code",
   "execution_count": 40,
   "id": "784ca14c-8670-42f8-93fd-081663f93ee0",
   "metadata": {},
   "outputs": [
    {
     "data": {
      "text/plain": [
       "(1460, 20)"
      ]
     },
     "execution_count": 40,
     "metadata": {},
     "output_type": "execute_result"
    }
   ],
   "source": [
    "from sklearn.feature_selection import mutual_info_regression # здесь выбираем лучшие признаки\n",
    "need_cols = num_columns.columns[mutual_info_regression(num_columns,y_train)>0.05]\n",
    "num_columns = num_columns[need_cols]\n",
    "num_columns.shape"
   ]
  },
  {
   "cell_type": "code",
   "execution_count": 41,
   "id": "de258ee6-6e68-4eb3-811f-46e759a4accf",
   "metadata": {},
   "outputs": [
    {
     "data": {
      "text/html": [
       "<div>\n",
       "<style scoped>\n",
       "    .dataframe tbody tr th:only-of-type {\n",
       "        vertical-align: middle;\n",
       "    }\n",
       "\n",
       "    .dataframe tbody tr th {\n",
       "        vertical-align: top;\n",
       "    }\n",
       "\n",
       "    .dataframe thead th {\n",
       "        text-align: right;\n",
       "    }\n",
       "</style>\n",
       "<table border=\"1\" class=\"dataframe\">\n",
       "  <thead>\n",
       "    <tr style=\"text-align: right;\">\n",
       "      <th></th>\n",
       "      <th>OverallQual</th>\n",
       "      <th>GrLivArea</th>\n",
       "      <th>Neighborhood</th>\n",
       "    </tr>\n",
       "  </thead>\n",
       "  <tbody>\n",
       "    <tr>\n",
       "      <th>0</th>\n",
       "      <td>7.0</td>\n",
       "      <td>1710.0</td>\n",
       "      <td>197965.734807</td>\n",
       "    </tr>\n",
       "    <tr>\n",
       "      <th>1</th>\n",
       "      <td>6.0</td>\n",
       "      <td>1262.0</td>\n",
       "      <td>197643.209810</td>\n",
       "    </tr>\n",
       "    <tr>\n",
       "      <th>2</th>\n",
       "      <td>7.0</td>\n",
       "      <td>1786.0</td>\n",
       "      <td>197965.734807</td>\n",
       "    </tr>\n",
       "    <tr>\n",
       "      <th>3</th>\n",
       "      <td>7.0</td>\n",
       "      <td>1717.0</td>\n",
       "      <td>209344.287867</td>\n",
       "    </tr>\n",
       "    <tr>\n",
       "      <th>4</th>\n",
       "      <td>8.0</td>\n",
       "      <td>2198.0</td>\n",
       "      <td>318453.591177</td>\n",
       "    </tr>\n",
       "    <tr>\n",
       "      <th>...</th>\n",
       "      <td>...</td>\n",
       "      <td>...</td>\n",
       "      <td>...</td>\n",
       "    </tr>\n",
       "    <tr>\n",
       "      <th>1455</th>\n",
       "      <td>6.0</td>\n",
       "      <td>1647.0</td>\n",
       "      <td>192821.904993</td>\n",
       "    </tr>\n",
       "    <tr>\n",
       "      <th>1456</th>\n",
       "      <td>6.0</td>\n",
       "      <td>2073.0</td>\n",
       "      <td>189009.693995</td>\n",
       "    </tr>\n",
       "    <tr>\n",
       "      <th>1457</th>\n",
       "      <td>7.0</td>\n",
       "      <td>2340.0</td>\n",
       "      <td>209344.287867</td>\n",
       "    </tr>\n",
       "    <tr>\n",
       "      <th>1458</th>\n",
       "      <td>5.0</td>\n",
       "      <td>1078.0</td>\n",
       "      <td>145847.080044</td>\n",
       "    </tr>\n",
       "    <tr>\n",
       "      <th>1459</th>\n",
       "      <td>5.0</td>\n",
       "      <td>1256.0</td>\n",
       "      <td>128237.373454</td>\n",
       "    </tr>\n",
       "  </tbody>\n",
       "</table>\n",
       "<p>1460 rows × 3 columns</p>\n",
       "</div>"
      ],
      "text/plain": [
       "      OverallQual  GrLivArea   Neighborhood\n",
       "0             7.0     1710.0  197965.734807\n",
       "1             6.0     1262.0  197643.209810\n",
       "2             7.0     1786.0  197965.734807\n",
       "3             7.0     1717.0  209344.287867\n",
       "4             8.0     2198.0  318453.591177\n",
       "...           ...        ...            ...\n",
       "1455          6.0     1647.0  192821.904993\n",
       "1456          6.0     2073.0  189009.693995\n",
       "1457          7.0     2340.0  209344.287867\n",
       "1458          5.0     1078.0  145847.080044\n",
       "1459          5.0     1256.0  128237.373454\n",
       "\n",
       "[1460 rows x 3 columns]"
      ]
     },
     "execution_count": 41,
     "metadata": {},
     "output_type": "execute_result"
    }
   ],
   "source": [
    "from sklearn.ensemble import RandomForestRegressor \n",
    "import pandas as pd\n",
    "model = RandomForestRegressor(min_samples_leaf=4,random_state = 42) # *\n",
    "X_train = pd.concat([num_columns,categorical_columns],axis=1)\n",
    "#делаем модель для того, чтобы определить features_importance, она определяет, сколько неопределённости из данных уйдёт, если добавить этот признак (0.1 - сокращает на 10%)\n",
    "model.fit(X_train,y_train)\n",
    "threshold = 0.05  # Установим порог\n",
    "selected_features = [i for i in range(X_train.shape[1]) if model.feature_importances_[i] > threshold] # *\n",
    "X_train = X_train[X_train.columns[selected_features]]\n",
    "X_train"
   ]
  },
  {
   "cell_type": "code",
   "execution_count": 42,
   "id": "de7c5050-5485-4a53-b98b-6e8957d73a32",
   "metadata": {},
   "outputs": [
    {
     "name": "stdout",
     "output_type": "stream",
     "text": [
      "🎻🎻🎻🎻🎻🎻🎻🎻🎻🎻🎻🎻🎻🎻🎻0.8517243023809178 при 3 столбцов из 79🎻🎻🎻🎻🎻🎻🎻🎻🎻🎻🎻🎻🎻🎻🎻🎻\n"
     ]
    }
   ],
   "source": [
    "X_test = X_test[X_train.columns]\n",
    "X_test['Neighborhood'] = enc.fit_transform(X_test['Neighborhood'],y_test)\n",
    "X_test[['OverallQual','GrLivArea']] = X_test[['OverallQual','GrLivArea']].fillna(X_test[['OverallQual','GrLivArea']].mean())\n",
    "model.fit(X_train,y_train)\n",
    "print(f'{model.score(X_test,y_test)} при {len(X_test.columns)} столбцов из 79'.center(70,'🎻'))"
   ]
  },
  {
   "cell_type": "code",
   "execution_count": null,
   "id": "05c6bcaa-aa22-44dc-ae5f-9c0a0d4cbeb0",
   "metadata": {},
   "outputs": [],
   "source": []
  }
 ],
 "metadata": {
  "kernelspec": {
   "display_name": "Python 3 (ipykernel)",
   "language": "python",
   "name": "python3"
  },
  "language_info": {
   "codemirror_mode": {
    "name": "ipython",
    "version": 3
   },
   "file_extension": ".py",
   "mimetype": "text/x-python",
   "name": "python",
   "nbconvert_exporter": "python",
   "pygments_lexer": "ipython3",
   "version": "3.11.7"
  }
 },
 "nbformat": 4,
 "nbformat_minor": 5
}
