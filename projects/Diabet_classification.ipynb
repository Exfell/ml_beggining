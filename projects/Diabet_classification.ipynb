{
 "cells": [
  {
   "cell_type": "code",
   "execution_count": 1,
   "id": "655ade35-9db1-41f2-8191-a4b74d0d5d88",
   "metadata": {},
   "outputs": [],
   "source": [
    "import pandas as pd\n",
    "from sklearn.svm import SVC\n",
    "from sklearn.model_selection import train_test_split\n",
    "df = pd.read_csv('../src/diabetes.csv')\n"
   ]
  },
  {
   "cell_type": "code",
   "execution_count": 2,
   "id": "7eb22caa-78ca-4ffb-ab50-b0ee85463dcd",
   "metadata": {},
   "outputs": [
    {
     "data": {
      "text/plain": [
       "Outcome\n",
       "0    500\n",
       "1    268\n",
       "Name: count, dtype: int64"
      ]
     },
     "execution_count": 2,
     "metadata": {},
     "output_type": "execute_result"
    }
   ],
   "source": [
    "df['Outcome'].value_counts() # как видишь, здесь разделено не совсем одинаково, поэтому придется делать стратифицированное разделение"
   ]
  },
  {
   "cell_type": "code",
   "execution_count": 3,
   "id": "bc3d6cae-7350-465c-98bf-9c3562cfc59a",
   "metadata": {},
   "outputs": [],
   "source": [
    "X = df.drop('Outcome',axis=1)\n",
    "y = df['Outcome']"
   ]
  },
  {
   "cell_type": "markdown",
   "id": "abec9143-2070-4e10-b661-c865971fc28b",
   "metadata": {},
   "source": [
    "Здесь ещё поднимается довольно важный вопрос, который ты рассматривал во время изучения K-Means. У данных разные std и дисперсия, т.е. одни данные [0.001, 0.0025, 0.003], а другие [124, 180, 136]. Для того, чтобы модель смогла сделать адекватный результат нужна стандартизация данных"
   ]
  },
  {
   "cell_type": "code",
   "execution_count": 4,
   "id": "d4b76bd3-9aa4-4224-8089-2a60c515c47c",
   "metadata": {},
   "outputs": [
    {
     "data": {
      "text/html": [
       "<div>\n",
       "<style scoped>\n",
       "    .dataframe tbody tr th:only-of-type {\n",
       "        vertical-align: middle;\n",
       "    }\n",
       "\n",
       "    .dataframe tbody tr th {\n",
       "        vertical-align: top;\n",
       "    }\n",
       "\n",
       "    .dataframe thead th {\n",
       "        text-align: right;\n",
       "    }\n",
       "</style>\n",
       "<table border=\"1\" class=\"dataframe\">\n",
       "  <thead>\n",
       "    <tr style=\"text-align: right;\">\n",
       "      <th></th>\n",
       "      <th>Pregnancies</th>\n",
       "      <th>Glucose</th>\n",
       "      <th>BloodPressure</th>\n",
       "      <th>SkinThickness</th>\n",
       "      <th>Insulin</th>\n",
       "      <th>BMI</th>\n",
       "      <th>DiabetesPedigreeFunction</th>\n",
       "      <th>Age</th>\n",
       "    </tr>\n",
       "    <tr>\n",
       "      <th>Outcome</th>\n",
       "      <th></th>\n",
       "      <th></th>\n",
       "      <th></th>\n",
       "      <th></th>\n",
       "      <th></th>\n",
       "      <th></th>\n",
       "      <th></th>\n",
       "      <th></th>\n",
       "    </tr>\n",
       "  </thead>\n",
       "  <tbody>\n",
       "    <tr>\n",
       "      <th>0</th>\n",
       "      <td>-0.162456</td>\n",
       "      <td>-0.341594</td>\n",
       "      <td>-0.047638</td>\n",
       "      <td>-0.054728</td>\n",
       "      <td>-0.095577</td>\n",
       "      <td>-0.214288</td>\n",
       "      <td>-0.127275</td>\n",
       "      <td>-0.174505</td>\n",
       "    </tr>\n",
       "    <tr>\n",
       "      <th>1</th>\n",
       "      <td>0.303090</td>\n",
       "      <td>0.637302</td>\n",
       "      <td>0.088877</td>\n",
       "      <td>0.102104</td>\n",
       "      <td>0.178315</td>\n",
       "      <td>0.399790</td>\n",
       "      <td>0.237453</td>\n",
       "      <td>0.325569</td>\n",
       "    </tr>\n",
       "  </tbody>\n",
       "</table>\n",
       "</div>"
      ],
      "text/plain": [
       "         Pregnancies   Glucose  BloodPressure  SkinThickness   Insulin  \\\n",
       "Outcome                                                                  \n",
       "0          -0.162456 -0.341594      -0.047638      -0.054728 -0.095577   \n",
       "1           0.303090  0.637302       0.088877       0.102104  0.178315   \n",
       "\n",
       "              BMI  DiabetesPedigreeFunction       Age  \n",
       "Outcome                                                \n",
       "0       -0.214288                 -0.127275 -0.174505  \n",
       "1        0.399790                  0.237453  0.325569  "
      ]
     },
     "execution_count": 4,
     "metadata": {},
     "output_type": "execute_result"
    }
   ],
   "source": [
    "from sklearn.preprocessing import StandardScaler\n",
    "scaler = StandardScaler()\n",
    "cols = X.columns\n",
    "X = pd.DataFrame(scaler.fit_transform(X),columns = cols)\n",
    "df = pd.concat([X,y],axis=1)\n",
    "df.groupby('Outcome').mean() # как видишь, разница значений большая"
   ]
  },
  {
   "cell_type": "code",
   "execution_count": 5,
   "id": "eac9e4b3-be08-4a9d-9e7f-b56b9aa24164",
   "metadata": {},
   "outputs": [],
   "source": [
    "X_train,X_test,y_train,y_test = train_test_split(X,y,test_size=0.1,stratify=y) # в train_test есть функция, позволяющая в одинаковой пропорции делить train и test"
   ]
  },
  {
   "cell_type": "code",
   "execution_count": 6,
   "id": "f3da3cc9-07ca-4f20-ae0b-120a77297da2",
   "metadata": {},
   "outputs": [
    {
     "data": {
      "text/plain": [
       "0.7402597402597403"
      ]
     },
     "execution_count": 6,
     "metadata": {},
     "output_type": "execute_result"
    }
   ],
   "source": [
    "classifier = SVC(kernel='linear')\n",
    "classifier.fit(X_train,y_train)\n",
    "classifier.score(X_test,y_test)\n"
   ]
  },
  {
   "cell_type": "code",
   "execution_count": 10,
   "id": "798c0137-2a51-40e6-bbc3-4d1a8ef572e6",
   "metadata": {},
   "outputs": [
    {
     "name": "stderr",
     "output_type": "stream",
     "text": [
      "C:\\Python311\\Lib\\site-packages\\sklearn\\base.py:493: UserWarning: X does not have valid feature names, but StandardScaler was fitted with feature names\n",
      "  warnings.warn(\n",
      "C:\\Python311\\Lib\\site-packages\\sklearn\\base.py:493: UserWarning: X does not have valid feature names, but SVC was fitted with feature names\n",
      "  warnings.warn(\n"
     ]
    },
    {
     "data": {
      "text/plain": [
       "array([1], dtype=int64)"
      ]
     },
     "execution_count": 10,
     "metadata": {},
     "output_type": "execute_result"
    }
   ],
   "source": [
    "import numpy as np\n",
    "input_data = np.asarray((6,148,72,35,0,33.6,0.627,50))\n",
    "rid = input_data.reshape(1,-1)\n",
    "rid = scaler.transform(rid) # ты до этого стандартизировал данные, значит и новые тоже надо стандартезировать для модели\n",
    "classifier.predict(rid)"
   ]
  }
 ],
 "metadata": {
  "kernelspec": {
   "display_name": "Python 3 (ipykernel)",
   "language": "python",
   "name": "python3"
  },
  "language_info": {
   "codemirror_mode": {
    "name": "ipython",
    "version": 3
   },
   "file_extension": ".py",
   "mimetype": "text/x-python",
   "name": "python",
   "nbconvert_exporter": "python",
   "pygments_lexer": "ipython3",
   "version": "3.11.1"
  }
 },
 "nbformat": 4,
 "nbformat_minor": 5
}
